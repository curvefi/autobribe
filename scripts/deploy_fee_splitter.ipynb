{
 "cells": [
  {
   "cell_type": "markdown",
   "id": "499a84358c328209",
   "metadata": {},
   "source": [
    "# Fee Splitter deployment\n",
    "This script lays the foundations for autobribe by deploying the fee splitter while leaving the fee distribution unchanged (100% of the fees go to the fee collector).\n",
    "\n",
    "To run this notebook you need to install the dependencies from the `scripts` poetry group as well\n",
    "."
   ]
  },
  {
   "cell_type": "markdown",
   "id": "4520c41b55d7683a",
   "metadata": {},
   "source": [
    "## Setup"
   ]
  },
  {
   "cell_type": "code",
   "execution_count": null,
   "id": "initial_id",
   "metadata": {},
   "outputs": [],
   "source": [
    "import os\n",
    "\n",
    "# importing scripting dependencies\n",
    "import boa\n",
    "import curve_dao\n",
    "from eth_account import Account\n",
    "from boa import NetworkEnv, Env\n"
   ]
  },
  {
   "cell_type": "code",
   "execution_count": null,
   "id": "7b037ff92597753a",
   "metadata": {},
   "outputs": [],
   "source": [
    "# use address book for relevant addresses\n",
    "import tests.integration.address_book as ab\n",
    "\n",
    "from dotenv import load_dotenv\n",
    "load_dotenv()\n",
    "\n",
    "# get env vars\n",
    "ETHERSCAN_API_KEY = os.getenv(\"ETHERSCAN_API_KEY\")\n",
    "PINATA_API_KEY = os.getenv(\"PINATA_API_KEY\")\n",
    "RPC_URL = os.environ.get(\"RPC_URL\")\n",
    "PRIVATE_KEY = os.environ.get(\"PRIVATE_KEY\")"
   ]
  },
  {
   "cell_type": "markdown",
   "id": "2120ddf1d7c2e37",
   "metadata": {},
   "source": [
    "## Select mode\n",
    "Production mode cell is intentionally executed first to avoid deploying things by accident. If one runs all the cells sequentially things will be executed in forking mode.\n",
    "\n",
    "To deploy in production mode, skip the execution of the fork mode cell."
   ]
  },
  {
   "cell_type": "code",
   "execution_count": null,
   "id": "e985a34d313a817",
   "metadata": {},
   "outputs": [],
   "source": [
    "# production mode (to deploy on ethereum)\n",
    "deployer = Account.from_key(PRIVATE_KEY)\n",
    "eth_env = NetworkEnv(RPC_URL)\n",
    "boa.set_env(eth_env)\n",
    "\n",
    "# this automatically sets the eoa as the deployer\n",
    "boa.env.add_account(deployer)"
   ]
  },
  {
   "cell_type": "code",
   "execution_count": null,
   "id": "c9356beb2f230641",
   "metadata": {},
   "outputs": [],
   "source": [
    "# fork mode (for testing) \n",
    "# we impersonate convex since they definitely have enough to push a vote\n",
    "CONVEX_VOTERPROXY = \"0x989aeb4d175e16225e39e87d0d97a3360524ad80\"\n",
    "\n",
    "forked_env = Env()\n",
    "boa.set_env(forked_env)\n",
    "\n",
    "boa.env.fork(RPC_URL)\n",
    "boa.env.eoa = CONVEX_VOTERPROXY"
   ]
  },
  {
   "cell_type": "markdown",
   "id": "578524461468e4a",
   "metadata": {},
   "source": [
    "## Compilation"
   ]
  },
  {
   "cell_type": "code",
   "execution_count": null,
   "id": "9df0c600c4b65379",
   "metadata": {},
   "outputs": [],
   "source": [
    "# compiling contract (through boa's magic imports)\n",
    "from contracts.fee_splitter import FeeSplitter"
   ]
  },
  {
   "cell_type": "markdown",
   "id": "203cca8118d9fd71",
   "metadata": {},
   "source": [
    "## Deployment"
   ]
  },
  {
   "cell_type": "code",
   "execution_count": null,
   "id": "890bc785bdd781f5",
   "metadata": {},
   "outputs": [],
   "source": [
    "# only receiver for now is the fee collector\n",
    "# we expect the current fee collection behavior to remain unchanged\n",
    "receivers = [(ab.fee_collector, 10_000, False)]\n",
    "fs = FeeSplitter(ab.crvusd, ab.controller_factory, receivers, ab.dao)"
   ]
  },
  {
   "cell_type": "markdown",
   "id": "d7ea437ad6fb9508",
   "metadata": {},
   "source": [
    "## Vote"
   ]
  },
  {
   "cell_type": "code",
   "execution_count": null,
   "id": "90e438d8960ee33b",
   "metadata": {},
   "outputs": [],
   "source": [
    "ACTIONS = [\n",
    "    (ab.controller_factory, \"set_fee_receiver\", fs)\n",
    "]\n",
    "DESCRIPTION = \"Set the fee receiver to the fee splitter, to lay the foundation for autobribe, st-crvUSD and rebalancing donations. This vote **is not** about changing the fee distribution (100% of revenues will still go to veCRV holders).\"\n",
    "curve_dao.create_vote(ab.dao, ACTIONS, DESCRIPTION, ETHERSCAN_API_KEY, PINATA_API_KEY)"
   ]
  },
  {
   "cell_type": "code",
   "execution_count": null,
   "id": "e6eb28b57fbfcd29",
   "metadata": {},
   "outputs": [],
   "source": []
  }
 ],
 "metadata": {
  "kernelspec": {
   "display_name": "Python 3",
   "language": "python",
   "name": "python3"
  },
  "language_info": {
   "codemirror_mode": {
    "name": "ipython",
    "version": 2
   },
   "file_extension": ".py",
   "mimetype": "text/x-python",
   "name": "python",
   "nbconvert_exporter": "python",
   "pygments_lexer": "ipython2",
   "version": "2.7.6"
  }
 },
 "nbformat": 4,
 "nbformat_minor": 5
}
