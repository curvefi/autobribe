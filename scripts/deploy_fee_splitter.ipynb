{
 "cells": [
  {
   "metadata": {},
   "cell_type": "markdown",
   "source": [
    "# Fee Splitter deployment\n",
    "This script lays the foundations for autobribe by deploying the fee splitter while leaving the fee distribution unchanged (100% of the fees go to the fee collector).\n",
    "\n",
    "To run this notebook you need to install the dependencies from the `scripts` poetry group as well\n",
    "."
   ],
   "id": "499a84358c328209"
  },
  {
   "metadata": {},
   "cell_type": "markdown",
   "source": "## Setup",
   "id": "4520c41b55d7683a"
  },
  {
   "cell_type": "code",
   "id": "initial_id",
   "metadata": {
    "collapsed": true,
    "ExecuteTime": {
     "end_time": "2024-08-15T13:15:09.570536Z",
     "start_time": "2024-08-15T13:15:09.550165Z"
    }
   },
   "source": [
    "import os\n",
    "\n",
    "# importing scripting dependencies\n",
    "import boa\n",
    "import curve_dao\n",
    "from eth_account import Account\n",
    "from boa import NetworkEnv, Env\n"
   ],
   "outputs": [],
   "execution_count": 9
  },
  {
   "metadata": {
    "ExecuteTime": {
     "end_time": "2024-08-15T13:15:11.012823Z",
     "start_time": "2024-08-15T13:15:11.008674Z"
    }
   },
   "cell_type": "code",
   "source": [
    "# use address book for relevant addresses\n",
    "import tests.integration.address_book as ab\n",
    "\n",
    "from dotenv import load_dotenv\n",
    "load_dotenv()\n",
    "\n",
    "# get env vars\n",
    "ETHERSCAN_API_KEY = os.getenv(\"ETHERSCAN_API_KEY\")\n",
    "PINATA_API_KEY = os.getenv(\"PINATA_API_KEY\")\n",
    "RPC_URL = os.environ.get(\"RPC_URL\")\n",
    "PRIVATE_KEY = os.environ.get(\"PRIVATE_KEY\")"
   ],
   "id": "7b037ff92597753a",
   "outputs": [],
   "execution_count": 10
  },
  {
   "metadata": {},
   "cell_type": "markdown",
   "source": [
    "## Select mode\n",
    "Production mode cell is intentionally executed first to avoid deploying things by accident. If one runs all the cells sequentially things will be executed in forking mode.\n",
    "\n",
    "To deploy in production mode, skip the execution of the fork mode cell."
   ],
   "id": "2120ddf1d7c2e37"
  },
  {
   "metadata": {
    "ExecuteTime": {
     "end_time": "2024-08-15T13:15:15.493962Z",
     "start_time": "2024-08-15T13:15:15.434094Z"
    }
   },
   "cell_type": "code",
   "source": [
    "# production mode (to deploy on ethereum)\n",
    "deployer = Account.from_key(PRIVATE_KEY)\n",
    "eth_env = NetworkEnv(RPC_URL)\n",
    "boa.set_env(eth_env)\n",
    "\n",
    "# this automatically sets the eoa as the deployer\n",
    "boa.env.add_account(deployer)"
   ],
   "id": "e985a34d313a817",
   "outputs": [
    {
     "ename": "TypeError",
     "evalue": "Cannot convert None of type <class 'NoneType'> to bytes",
     "output_type": "error",
     "traceback": [
      "\u001B[0;31m---------------------------------------------------------------------------\u001B[0m",
      "\u001B[0;31mTypeError\u001B[0m                                 Traceback (most recent call last)",
      "Cell \u001B[0;32mIn[11], line 2\u001B[0m\n\u001B[1;32m      1\u001B[0m \u001B[38;5;66;03m# production mode (to deploy on ethereum)\u001B[39;00m\n\u001B[0;32m----> 2\u001B[0m deployer \u001B[38;5;241m=\u001B[39m \u001B[43mAccount\u001B[49m\u001B[38;5;241;43m.\u001B[39;49m\u001B[43mfrom_key\u001B[49m\u001B[43m(\u001B[49m\u001B[43mPRIVATE_KEY\u001B[49m\u001B[43m)\u001B[49m\n\u001B[1;32m      3\u001B[0m eth_env \u001B[38;5;241m=\u001B[39m NetworkEnv(RPC_URL)\n\u001B[1;32m      4\u001B[0m boa\u001B[38;5;241m.\u001B[39mset_env(eth_env)\n",
      "File \u001B[0;32m~/Repos/curve/autobribe/.venv/lib/python3.12/site-packages/eth_utils/decorators.py:31\u001B[0m, in \u001B[0;36mcombomethod.__get__.<locals>._wrapper\u001B[0;34m(*args, **kwargs)\u001B[0m\n\u001B[1;32m     29\u001B[0m     \u001B[38;5;28;01mreturn\u001B[39;00m \u001B[38;5;28mself\u001B[39m\u001B[38;5;241m.\u001B[39mmethod(obj, \u001B[38;5;241m*\u001B[39margs, \u001B[38;5;241m*\u001B[39m\u001B[38;5;241m*\u001B[39mkwargs)\n\u001B[1;32m     30\u001B[0m \u001B[38;5;28;01melse\u001B[39;00m:\n\u001B[0;32m---> 31\u001B[0m     \u001B[38;5;28;01mreturn\u001B[39;00m \u001B[38;5;28;43mself\u001B[39;49m\u001B[38;5;241;43m.\u001B[39;49m\u001B[43mmethod\u001B[49m\u001B[43m(\u001B[49m\u001B[43mobjtype\u001B[49m\u001B[43m,\u001B[49m\u001B[43m \u001B[49m\u001B[38;5;241;43m*\u001B[39;49m\u001B[43margs\u001B[49m\u001B[43m,\u001B[49m\u001B[43m \u001B[49m\u001B[38;5;241;43m*\u001B[39;49m\u001B[38;5;241;43m*\u001B[39;49m\u001B[43mkwargs\u001B[49m\u001B[43m)\u001B[49m\n",
      "File \u001B[0;32m~/Repos/curve/autobribe/.venv/lib/python3.12/site-packages/eth_account/account.py:298\u001B[0m, in \u001B[0;36mAccount.from_key\u001B[0;34m(self, private_key)\u001B[0m\n\u001B[1;32m    275\u001B[0m \u001B[38;5;129m@combomethod\u001B[39m\n\u001B[1;32m    276\u001B[0m \u001B[38;5;28;01mdef\u001B[39;00m \u001B[38;5;21mfrom_key\u001B[39m(\u001B[38;5;28mself\u001B[39m, private_key: PrivateKeyType) \u001B[38;5;241m-\u001B[39m\u001B[38;5;241m>\u001B[39m LocalAccount:\n\u001B[1;32m    277\u001B[0m \u001B[38;5;250m    \u001B[39m\u001B[38;5;124mr\u001B[39m\u001B[38;5;124;03m\"\"\"\u001B[39;00m\n\u001B[1;32m    278\u001B[0m \u001B[38;5;124;03m    Returns a convenient object for working with the given private key.\u001B[39;00m\n\u001B[1;32m    279\u001B[0m \n\u001B[0;32m   (...)\u001B[0m\n\u001B[1;32m    296\u001B[0m \u001B[38;5;124;03m        # but without the private key argument\u001B[39;00m\n\u001B[1;32m    297\u001B[0m \u001B[38;5;124;03m    \"\"\"\u001B[39;00m\n\u001B[0;32m--> 298\u001B[0m     key \u001B[38;5;241m=\u001B[39m \u001B[38;5;28;43mself\u001B[39;49m\u001B[38;5;241;43m.\u001B[39;49m\u001B[43m_parse_private_key\u001B[49m\u001B[43m(\u001B[49m\u001B[43mprivate_key\u001B[49m\u001B[43m)\u001B[49m\n\u001B[1;32m    299\u001B[0m     \u001B[38;5;28;01mreturn\u001B[39;00m LocalAccount(key, \u001B[38;5;28mself\u001B[39m)\n",
      "File \u001B[0;32m~/Repos/curve/autobribe/.venv/lib/python3.12/site-packages/eth_utils/decorators.py:31\u001B[0m, in \u001B[0;36mcombomethod.__get__.<locals>._wrapper\u001B[0;34m(*args, **kwargs)\u001B[0m\n\u001B[1;32m     29\u001B[0m     \u001B[38;5;28;01mreturn\u001B[39;00m \u001B[38;5;28mself\u001B[39m\u001B[38;5;241m.\u001B[39mmethod(obj, \u001B[38;5;241m*\u001B[39margs, \u001B[38;5;241m*\u001B[39m\u001B[38;5;241m*\u001B[39mkwargs)\n\u001B[1;32m     30\u001B[0m \u001B[38;5;28;01melse\u001B[39;00m:\n\u001B[0;32m---> 31\u001B[0m     \u001B[38;5;28;01mreturn\u001B[39;00m \u001B[38;5;28;43mself\u001B[39;49m\u001B[38;5;241;43m.\u001B[39;49m\u001B[43mmethod\u001B[49m\u001B[43m(\u001B[49m\u001B[43mobjtype\u001B[49m\u001B[43m,\u001B[49m\u001B[43m \u001B[49m\u001B[38;5;241;43m*\u001B[39;49m\u001B[43margs\u001B[49m\u001B[43m,\u001B[49m\u001B[43m \u001B[49m\u001B[38;5;241;43m*\u001B[39;49m\u001B[38;5;241;43m*\u001B[39;49m\u001B[43mkwargs\u001B[49m\u001B[43m)\u001B[49m\n",
      "File \u001B[0;32m~/Repos/curve/autobribe/.venv/lib/python3.12/site-packages/eth_account/account.py:882\u001B[0m, in \u001B[0;36mAccount._parse_private_key\u001B[0;34m(self, key)\u001B[0m\n\u001B[1;32m    879\u001B[0m \u001B[38;5;28;01mif\u001B[39;00m \u001B[38;5;28misinstance\u001B[39m(key, \u001B[38;5;28mself\u001B[39m\u001B[38;5;241m.\u001B[39m_keys\u001B[38;5;241m.\u001B[39mPrivateKey):\n\u001B[1;32m    880\u001B[0m     \u001B[38;5;28;01mreturn\u001B[39;00m key\n\u001B[0;32m--> 882\u001B[0m hb_key \u001B[38;5;241m=\u001B[39m \u001B[43mHexBytes\u001B[49m\u001B[43m(\u001B[49m\u001B[43mkey\u001B[49m\u001B[43m)\u001B[49m\n\u001B[1;32m    884\u001B[0m \u001B[38;5;28;01mtry\u001B[39;00m:\n\u001B[1;32m    885\u001B[0m     \u001B[38;5;28;01mreturn\u001B[39;00m \u001B[38;5;28mself\u001B[39m\u001B[38;5;241m.\u001B[39m_keys\u001B[38;5;241m.\u001B[39mPrivateKey(hb_key)\n",
      "File \u001B[0;32m~/Repos/curve/autobribe/.venv/lib/python3.12/site-packages/hexbytes/main.py:33\u001B[0m, in \u001B[0;36mHexBytes.__new__\u001B[0;34m(cls, val)\u001B[0m\n\u001B[1;32m     32\u001B[0m \u001B[38;5;28;01mdef\u001B[39;00m \u001B[38;5;21m__new__\u001B[39m(\u001B[38;5;28mcls\u001B[39m: Type[\u001B[38;5;28mbytes\u001B[39m], val: BytesLike) \u001B[38;5;241m-\u001B[39m\u001B[38;5;241m>\u001B[39m \u001B[38;5;124m\"\u001B[39m\u001B[38;5;124mHexBytes\u001B[39m\u001B[38;5;124m\"\u001B[39m:\n\u001B[0;32m---> 33\u001B[0m     bytesval \u001B[38;5;241m=\u001B[39m \u001B[43mto_bytes\u001B[49m\u001B[43m(\u001B[49m\u001B[43mval\u001B[49m\u001B[43m)\u001B[49m\n\u001B[1;32m     34\u001B[0m     \u001B[38;5;28;01mreturn\u001B[39;00m cast(HexBytes, \u001B[38;5;28msuper\u001B[39m()\u001B[38;5;241m.\u001B[39m\u001B[38;5;21m__new__\u001B[39m(\u001B[38;5;28mcls\u001B[39m, bytesval))\n",
      "File \u001B[0;32m~/Repos/curve/autobribe/.venv/lib/python3.12/site-packages/hexbytes/_utils.py:32\u001B[0m, in \u001B[0;36mto_bytes\u001B[0;34m(val)\u001B[0m\n\u001B[1;32m     30\u001B[0m     \u001B[38;5;28;01mreturn\u001B[39;00m \u001B[38;5;28mbytes\u001B[39m(val)\n\u001B[1;32m     31\u001B[0m \u001B[38;5;28;01melse\u001B[39;00m:\n\u001B[0;32m---> 32\u001B[0m     \u001B[38;5;28;01mraise\u001B[39;00m \u001B[38;5;167;01mTypeError\u001B[39;00m(\u001B[38;5;124mf\u001B[39m\u001B[38;5;124m\"\u001B[39m\u001B[38;5;124mCannot convert \u001B[39m\u001B[38;5;132;01m{\u001B[39;00mval\u001B[38;5;132;01m!r}\u001B[39;00m\u001B[38;5;124m of type \u001B[39m\u001B[38;5;132;01m{\u001B[39;00m\u001B[38;5;28mtype\u001B[39m(val)\u001B[38;5;132;01m}\u001B[39;00m\u001B[38;5;124m to bytes\u001B[39m\u001B[38;5;124m\"\u001B[39m)\n",
      "\u001B[0;31mTypeError\u001B[0m: Cannot convert None of type <class 'NoneType'> to bytes"
     ]
    }
   ],
   "execution_count": 11
  },
  {
   "metadata": {
    "ExecuteTime": {
     "end_time": "2024-08-15T13:15:41.565979Z",
     "start_time": "2024-08-15T13:15:40.736740Z"
    }
   },
   "cell_type": "code",
   "source": [
    "# fork mode (for testing) \n",
    "# we impersonate convex since they definitely have enough to push a vote\n",
    "CONVEX_VOTERPROXY = \"0x989aeb4d175e16225e39e87d0d97a3360524ad80\"\n",
    "\n",
    "forked_env = Env()\n",
    "boa.set_env(forked_env)\n",
    "\n",
    "boa.env.fork(RPC_URL)\n",
    "boa.env.eoa = CONVEX_VOTERPROXY"
   ],
   "id": "c9356beb2f230641",
   "outputs": [],
   "execution_count": 12
  },
  {
   "metadata": {},
   "cell_type": "markdown",
   "source": "## Compilation",
   "id": "578524461468e4a"
  },
  {
   "metadata": {
    "ExecuteTime": {
     "end_time": "2024-08-15T13:15:45.897835Z",
     "start_time": "2024-08-15T13:15:45.895618Z"
    }
   },
   "cell_type": "code",
   "source": [
    "# compiling contract (through boa's magic imports)\n",
    "from contracts.fee_splitter import FeeSplitter"
   ],
   "id": "9df0c600c4b65379",
   "outputs": [],
   "execution_count": 13
  },
  {
   "metadata": {},
   "cell_type": "markdown",
   "source": "## Deployment",
   "id": "203cca8118d9fd71"
  },
  {
   "metadata": {
    "ExecuteTime": {
     "end_time": "2024-08-15T13:15:49.203416Z",
     "start_time": "2024-08-15T13:15:47.332049Z"
    }
   },
   "cell_type": "code",
   "source": [
    "# only receiver for now is the fee collector\n",
    "# we expect the current fee collection behavior to remain unchanged\n",
    "receivers = [(ab.fee_collector, 10_000, False)]\n",
    "fs = FeeSplitter(ab.crvusd, ab.controller_factory, receivers, ab.dao)"
   ],
   "id": "890bc785bdd781f5",
   "outputs": [],
   "execution_count": 14
  },
  {
   "metadata": {},
   "cell_type": "markdown",
   "source": "## Vote",
   "id": "d7ea437ad6fb9508"
  },
  {
   "metadata": {
    "ExecuteTime": {
     "end_time": "2024-08-15T13:16:56.061734Z",
     "start_time": "2024-08-15T13:16:52.709696Z"
    }
   },
   "cell_type": "code",
   "source": [
    "ACTIONS = [\n",
    "    (ab.controller_factory, \"set_fee_receiver\", fs)\n",
    "]\n",
    "DESCRIPTION = \"Set the fee receiver to the fee splitter, to lay the foundation for autobribe, st-crvUSD and rebalancing donations. This vote **is not** about changing the fee distribution (100% of revenues will still go to veCRV holders).\"\n",
    "curve_dao.create_vote(ab.dao, ACTIONS, DESCRIPTION, ETHERSCAN_API_KEY, PINATA_API_KEY)"
   ],
   "id": "90e438d8960ee33b",
   "outputs": [
    {
     "data": {
      "text/plain": [
       "\u001B[2;36m[15:16:53]\u001B[0m\u001B[2;36m \u001B[0m\u001B[34mINFO    \u001B[0m Preparing EVM script                                                           \u001B]8;id=556894;file:///Users/albe/Repos/curve/autobribe/.venv/lib/python3.12/site-packages/curve_dao/vote_utils.py\u001B\\\u001B[2mvote_utils.py\u001B[0m\u001B]8;;\u001B\\\u001B[2m:\u001B[0m\u001B]8;id=860239;file:///Users/albe/Repos/curve/autobribe/.venv/lib/python3.12/site-packages/curve_dao/vote_utils.py#43\u001B\\\u001B[2m43\u001B[0m\u001B]8;;\u001B\\\n"
      ],
      "text/html": [
       "<pre style=\"white-space:pre;overflow-x:auto;line-height:normal;font-family:Menlo,'DejaVu Sans Mono',consolas,'Courier New',monospace\"><span style=\"color: #7fbfbf; text-decoration-color: #7fbfbf\">[15:16:53] </span><span style=\"color: #000080; text-decoration-color: #000080\">INFO    </span> Preparing EVM script                                                           <a href=\"file:///Users/albe/Repos/curve/autobribe/.venv/lib/python3.12/site-packages/curve_dao/vote_utils.py\" target=\"_blank\"><span style=\"color: #7f7f7f; text-decoration-color: #7f7f7f\">vote_utils.py</span></a><span style=\"color: #7f7f7f; text-decoration-color: #7f7f7f\">:</span><a href=\"file:///Users/albe/Repos/curve/autobribe/.venv/lib/python3.12/site-packages/curve_dao/vote_utils.py#43\" target=\"_blank\"><span style=\"color: #7f7f7f; text-decoration-color: #7f7f7f\">43</span></a>\n",
       "</pre>\n"
      ]
     },
     "metadata": {},
     "output_type": "display_data"
    },
    {
     "data": {
      "text/plain": [
       "\u001B[2;36m          \u001B[0m\u001B[2;36m \u001B[0m\u001B[34mINFO    \u001B[0m EVM script generated:                                                          \u001B]8;id=43960;file:///Users/albe/Repos/curve/autobribe/.venv/lib/python3.12/site-packages/curve_dao/vote_utils.py\u001B\\\u001B[2mvote_utils.py\u001B[0m\u001B]8;;\u001B\\\u001B[2m:\u001B[0m\u001B]8;id=923648;file:///Users/albe/Repos/curve/autobribe/.venv/lib/python3.12/site-packages/curve_dao/vote_utils.py#69\u001B\\\u001B[2m69\u001B[0m\u001B]8;;\u001B\\\n",
       "\u001B[2;36m           \u001B[0m         \u001B[32mb\"\\x00\\x00\\x00\\x01@\\x90u@\\xd8\\xa6\\xc6\\\\cw\\x85\\xe8\\xf8\\xb7B\\xaek\\x0b\\x99h\\x00\\x\u001B[0m \u001B[2m                \u001B[0m\n",
       "\u001B[2;36m           \u001B[0m         \u001B[32m00\\x00\\xc4\\xb6\\x1d'\\xf6\\x00\\x00\\x00\\x00\\x00\\x00\\x00\\x00\\x00\\x00\\x00\\x00\\xc93/\\\u001B[0m \u001B[2m                \u001B[0m\n",
       "\u001B[2;36m           \u001B[0m         \u001B[32mxdc\\xb1\\xc4\\x91\\xdc\\xc6\\x83\\xba\\xe8o\\xe3\\xcbp6\\x078\\xbc\\x00\\x00\\x00\\x00\\x00\\x0\u001B[0m \u001B[2m                \u001B[0m\n",
       "\u001B[2;36m           \u001B[0m         \u001B[32m0\\x00\\x00\\x00\\x00\\x00\\x00\\x00\\x00\\x00\\x00\\x00\\x00\\x00\\x00\\x00\\x00\\x00\\x00\\x00\\\u001B[0m \u001B[2m                \u001B[0m\n",
       "\u001B[2;36m           \u001B[0m         \u001B[32mx00\\x00\\x00\\x00\\x00\\x00\\x00\\x00\\x00\\x00\\x00\\x00\\x00\\x00\\x00\\x00\\x00\\x00\\x00\\x0\u001B[0m \u001B[2m                \u001B[0m\n",
       "\u001B[2;36m           \u001B[0m         \u001B[32m0\\x00\\x00\\x00\\x00\\x00\\x00\\x00\\x00\\x00\\x00\\x00\\x00\\x00\\x00\\x00\\x00\\x00\\x00`\\x00\u001B[0m \u001B[2m                \u001B[0m\n",
       "\u001B[2;36m           \u001B[0m         \u001B[32m\\x00\\x00\\x00\\x00\\x00\\x00\\x00\\x00\\x00\\x00\\x00\\x00\\x00\\x00\\x00\\x00\\x00\\x00\\x00\\x\u001B[0m \u001B[2m                \u001B[0m\n",
       "\u001B[2;36m           \u001B[0m         \u001B[32m00\\x00\\x00\\x00\\x00\\x00\\x00\\x00\\x00\\x00\\x00$\\xe4\\x1a\\xb7q\\x00\\x00\\x00\\x00\\x00\\x\u001B[0m \u001B[2m                \u001B[0m\n",
       "\u001B[2;36m           \u001B[0m         \u001B[32m00\\x00\\x00\\x00\\x00\\x00\\x00\\\u001B[0m\u001B[32mxe7l\u001B[0m\u001B[32m=\\xd7:\\xa9\\x18N\\xe7\\x81\\xc7fA\\xe2\\xfc5\\x9fA\\xdf\u001B[0m \u001B[2m                \u001B[0m\n",
       "\u001B[2;36m           \u001B[0m         \u001B[32mE\\x00\\x00\\x00\\x00\\x00\\x00\\x00\\x00\\x00\\x00\\x00\\x00\\x00\\x00\\x00\\x00\\x00\\x00\\x00\\\u001B[0m \u001B[2m                \u001B[0m\n",
       "\u001B[2;36m           \u001B[0m         \u001B[32mx00\\x00\\x00\\x00\\x00\\x00\\x00\\x00\\x00\"\u001B[0m                                           \u001B[2m                \u001B[0m\n"
      ],
      "text/html": [
       "<pre style=\"white-space:pre;overflow-x:auto;line-height:normal;font-family:Menlo,'DejaVu Sans Mono',consolas,'Courier New',monospace\"><span style=\"color: #7fbfbf; text-decoration-color: #7fbfbf\">           </span><span style=\"color: #000080; text-decoration-color: #000080\">INFO    </span> EVM script generated:                                                          <a href=\"file:///Users/albe/Repos/curve/autobribe/.venv/lib/python3.12/site-packages/curve_dao/vote_utils.py\" target=\"_blank\"><span style=\"color: #7f7f7f; text-decoration-color: #7f7f7f\">vote_utils.py</span></a><span style=\"color: #7f7f7f; text-decoration-color: #7f7f7f\">:</span><a href=\"file:///Users/albe/Repos/curve/autobribe/.venv/lib/python3.12/site-packages/curve_dao/vote_utils.py#69\" target=\"_blank\"><span style=\"color: #7f7f7f; text-decoration-color: #7f7f7f\">69</span></a>\n",
       "<span style=\"color: #7fbfbf; text-decoration-color: #7fbfbf\">           </span>         <span style=\"color: #008000; text-decoration-color: #008000\">b\"\\x00\\x00\\x00\\x01@\\x90u@\\xd8\\xa6\\xc6\\\\cw\\x85\\xe8\\xf8\\xb7B\\xaek\\x0b\\x99h\\x00\\x</span> <span style=\"color: #7f7f7f; text-decoration-color: #7f7f7f\">                </span>\n",
       "<span style=\"color: #7fbfbf; text-decoration-color: #7fbfbf\">           </span>         <span style=\"color: #008000; text-decoration-color: #008000\">00\\x00\\xc4\\xb6\\x1d'\\xf6\\x00\\x00\\x00\\x00\\x00\\x00\\x00\\x00\\x00\\x00\\x00\\x00\\xc93/\\</span> <span style=\"color: #7f7f7f; text-decoration-color: #7f7f7f\">                </span>\n",
       "<span style=\"color: #7fbfbf; text-decoration-color: #7fbfbf\">           </span>         <span style=\"color: #008000; text-decoration-color: #008000\">xdc\\xb1\\xc4\\x91\\xdc\\xc6\\x83\\xba\\xe8o\\xe3\\xcbp6\\x078\\xbc\\x00\\x00\\x00\\x00\\x00\\x0</span> <span style=\"color: #7f7f7f; text-decoration-color: #7f7f7f\">                </span>\n",
       "<span style=\"color: #7fbfbf; text-decoration-color: #7fbfbf\">           </span>         <span style=\"color: #008000; text-decoration-color: #008000\">0\\x00\\x00\\x00\\x00\\x00\\x00\\x00\\x00\\x00\\x00\\x00\\x00\\x00\\x00\\x00\\x00\\x00\\x00\\x00\\</span> <span style=\"color: #7f7f7f; text-decoration-color: #7f7f7f\">                </span>\n",
       "<span style=\"color: #7fbfbf; text-decoration-color: #7fbfbf\">           </span>         <span style=\"color: #008000; text-decoration-color: #008000\">x00\\x00\\x00\\x00\\x00\\x00\\x00\\x00\\x00\\x00\\x00\\x00\\x00\\x00\\x00\\x00\\x00\\x00\\x00\\x0</span> <span style=\"color: #7f7f7f; text-decoration-color: #7f7f7f\">                </span>\n",
       "<span style=\"color: #7fbfbf; text-decoration-color: #7fbfbf\">           </span>         <span style=\"color: #008000; text-decoration-color: #008000\">0\\x00\\x00\\x00\\x00\\x00\\x00\\x00\\x00\\x00\\x00\\x00\\x00\\x00\\x00\\x00\\x00\\x00\\x00`\\x00</span> <span style=\"color: #7f7f7f; text-decoration-color: #7f7f7f\">                </span>\n",
       "<span style=\"color: #7fbfbf; text-decoration-color: #7fbfbf\">           </span>         <span style=\"color: #008000; text-decoration-color: #008000\">\\x00\\x00\\x00\\x00\\x00\\x00\\x00\\x00\\x00\\x00\\x00\\x00\\x00\\x00\\x00\\x00\\x00\\x00\\x00\\x</span> <span style=\"color: #7f7f7f; text-decoration-color: #7f7f7f\">                </span>\n",
       "<span style=\"color: #7fbfbf; text-decoration-color: #7fbfbf\">           </span>         <span style=\"color: #008000; text-decoration-color: #008000\">00\\x00\\x00\\x00\\x00\\x00\\x00\\x00\\x00\\x00\\x00$\\xe4\\x1a\\xb7q\\x00\\x00\\x00\\x00\\x00\\x</span> <span style=\"color: #7f7f7f; text-decoration-color: #7f7f7f\">                </span>\n",
       "<span style=\"color: #7fbfbf; text-decoration-color: #7fbfbf\">           </span>         <span style=\"color: #008000; text-decoration-color: #008000\">00\\x00\\x00\\x00\\x00\\x00\\x00\\xe7l=\\xd7:\\xa9\\x18N\\xe7\\x81\\xc7fA\\xe2\\xfc5\\x9fA\\xdf</span> <span style=\"color: #7f7f7f; text-decoration-color: #7f7f7f\">                </span>\n",
       "<span style=\"color: #7fbfbf; text-decoration-color: #7fbfbf\">           </span>         <span style=\"color: #008000; text-decoration-color: #008000\">E\\x00\\x00\\x00\\x00\\x00\\x00\\x00\\x00\\x00\\x00\\x00\\x00\\x00\\x00\\x00\\x00\\x00\\x00\\x00\\</span> <span style=\"color: #7f7f7f; text-decoration-color: #7f7f7f\">                </span>\n",
       "<span style=\"color: #7fbfbf; text-decoration-color: #7fbfbf\">           </span>         <span style=\"color: #008000; text-decoration-color: #008000\">x00\\x00\\x00\\x00\\x00\\x00\\x00\\x00\\x00\"</span>                                           <span style=\"color: #7f7f7f; text-decoration-color: #7f7f7f\">                </span>\n",
       "</pre>\n"
      ]
     },
     "metadata": {},
     "output_type": "display_data"
    },
    {
     "data": {
      "text/plain": [
       "\u001B[2;36m[15:16:55]\u001B[0m\u001B[2;36m \u001B[0m\u001B[34mINFO    \u001B[0m Pinned Vote description to                                                           \u001B]8;id=908311;file:///Users/albe/Repos/curve/autobribe/.venv/lib/python3.12/site-packages/curve_dao/ipfs.py\u001B\\\u001B[2mipfs.py\u001B[0m\u001B]8;;\u001B\\\u001B[2m:\u001B[0m\u001B]8;id=380140;file:///Users/albe/Repos/curve/autobribe/.venv/lib/python3.12/site-packages/curve_dao/ipfs.py#39\u001B\\\u001B[2m39\u001B[0m\u001B]8;;\u001B\\\n",
       "\u001B[2;36m           \u001B[0m         ipfs:bafkreigov6ku34xskmltm6v27unxn7msml4mqmbculcqtn5sol5epdwaxq                     \u001B[2m          \u001B[0m\n"
      ],
      "text/html": [
       "<pre style=\"white-space:pre;overflow-x:auto;line-height:normal;font-family:Menlo,'DejaVu Sans Mono',consolas,'Courier New',monospace\"><span style=\"color: #7fbfbf; text-decoration-color: #7fbfbf\">[15:16:55] </span><span style=\"color: #000080; text-decoration-color: #000080\">INFO    </span> Pinned Vote description to                                                           <a href=\"file:///Users/albe/Repos/curve/autobribe/.venv/lib/python3.12/site-packages/curve_dao/ipfs.py\" target=\"_blank\"><span style=\"color: #7f7f7f; text-decoration-color: #7f7f7f\">ipfs.py</span></a><span style=\"color: #7f7f7f; text-decoration-color: #7f7f7f\">:</span><a href=\"file:///Users/albe/Repos/curve/autobribe/.venv/lib/python3.12/site-packages/curve_dao/ipfs.py#39\" target=\"_blank\"><span style=\"color: #7f7f7f; text-decoration-color: #7f7f7f\">39</span></a>\n",
       "<span style=\"color: #7fbfbf; text-decoration-color: #7fbfbf\">           </span>         ipfs:bafkreigov6ku34xskmltm6v27unxn7msml4mqmbculcqtn5sol5epdwaxq                     <span style=\"color: #7f7f7f; text-decoration-color: #7f7f7f\">          </span>\n",
       "</pre>\n"
      ]
     },
     "metadata": {},
     "output_type": "display_data"
    },
    {
     "data": {
      "text/plain": [
       "\u001B[2;36m[15:16:56]\u001B[0m\u001B[2;36m \u001B[0m\u001B[1;31mERROR   \u001B[0m EOA cannot create new vote. Either there isn't enough veCRV balance orEOA        \u001B]8;id=573931;file:///Users/albe/Repos/curve/autobribe/.venv/lib/python3.12/site-packages/curve_dao/__init__.py\u001B\\\u001B[2m__init__.py\u001B[0m\u001B]8;;\u001B\\\u001B[2m:\u001B[0m\u001B]8;id=259033;file:///Users/albe/Repos/curve/autobribe/.venv/lib/python3.12/site-packages/curve_dao/__init__.py#42\u001B\\\u001B[2m42\u001B[0m\u001B]8;;\u001B\\\n",
       "\u001B[2;36m           \u001B[0m         created a vote less than \u001B[1;36m12\u001B[0m hours ago.                                           \u001B[2m              \u001B[0m\n",
       "\u001B[2;36m           \u001B[0m         \u001B[31m╭─\u001B[0m\u001B[31m────────────────────\u001B[0m\u001B[31m \u001B[0m\u001B[1;31mTraceback \u001B[0m\u001B[1;2;31m(most recent call last)\u001B[0m\u001B[31m \u001B[0m\u001B[31m─────────────────────\u001B[0m\u001B[31m─╮\u001B[0m \u001B[2m              \u001B[0m\n",
       "\u001B[2;36m           \u001B[0m         \u001B[31m│\u001B[0m \u001B[2;33m/Users/albe/Repos/curve/autobribe/.venv/lib/python3.12/site-packages/curve_d\u001B[0m \u001B[31m│\u001B[0m \u001B[2m              \u001B[0m\n",
       "\u001B[2;36m           \u001B[0m         \u001B[31m│\u001B[0m \u001B[2;33mao/\u001B[0m\u001B[1;33m__init__.py\u001B[0m:\u001B[94m40\u001B[0m in \u001B[92mcreate_vote\u001B[0m                                             \u001B[31m│\u001B[0m \u001B[2m              \u001B[0m\n",
       "\u001B[2;36m           \u001B[0m         \u001B[31m│\u001B[0m                                                                              \u001B[31m│\u001B[0m \u001B[2m              \u001B[0m\n",
       "\u001B[2;36m           \u001B[0m         \u001B[31m│\u001B[0m   \u001B[2m37 \u001B[0m\u001B[2m│   \u001B[0m)                                                                   \u001B[31m│\u001B[0m \u001B[2m              \u001B[0m\n",
       "\u001B[2;36m           \u001B[0m         \u001B[31m│\u001B[0m   \u001B[2m38 \u001B[0m\u001B[2m│   \u001B[0m                                                                    \u001B[31m│\u001B[0m \u001B[2m              \u001B[0m\n",
       "\u001B[2;36m           \u001B[0m         \u001B[31m│\u001B[0m   \u001B[2m39 \u001B[0m\u001B[2m│   \u001B[0m\u001B[94mtry\u001B[0m:                                                                \u001B[31m│\u001B[0m \u001B[2m              \u001B[0m\n",
       "\u001B[2;36m           \u001B[0m         \u001B[31m│\u001B[0m \u001B[31m❱ \u001B[0m40 \u001B[2m│   │   \u001B[0m\u001B[94massert\u001B[0m voting.canCreateNewVote(boa.env.eoa)                     \u001B[31m│\u001B[0m \u001B[2m              \u001B[0m\n",
       "\u001B[2;36m           \u001B[0m         \u001B[31m│\u001B[0m   \u001B[2m41 \u001B[0m\u001B[2m│   \u001B[0m\u001B[94mexcept\u001B[0m \u001B[96mException\u001B[0m:                                                   \u001B[31m│\u001B[0m \u001B[2m              \u001B[0m\n",
       "\u001B[2;36m           \u001B[0m         \u001B[31m│\u001B[0m   \u001B[2m42 \u001B[0m\u001B[2m│   │   \u001B[0mlogger.exception(                                               \u001B[31m│\u001B[0m \u001B[2m              \u001B[0m\n",
       "\u001B[2;36m           \u001B[0m         \u001B[31m│\u001B[0m   \u001B[2m43 \u001B[0m\u001B[2m│   │   │   \u001B[0m\u001B[33m\"\u001B[0m\u001B[33mEOA cannot create new vote. Either there isn\u001B[0m\u001B[33m'\u001B[0m\u001B[33mt enough veCR\u001B[0m \u001B[31m│\u001B[0m \u001B[2m              \u001B[0m\n",
       "\u001B[2;36m           \u001B[0m         \u001B[31m╰──────────────────────────────────────────────────────────────────────────────╯\u001B[0m \u001B[2m              \u001B[0m\n",
       "\u001B[2;36m           \u001B[0m         \u001B[1;91mAssertionError\u001B[0m                                                                   \u001B[2m              \u001B[0m\n"
      ],
      "text/html": [
       "<pre style=\"white-space:pre;overflow-x:auto;line-height:normal;font-family:Menlo,'DejaVu Sans Mono',consolas,'Courier New',monospace\"><span style=\"color: #7fbfbf; text-decoration-color: #7fbfbf\">[15:16:56] </span><span style=\"color: #800000; text-decoration-color: #800000; font-weight: bold\">ERROR   </span> EOA cannot create new vote. Either there isn't enough veCRV balance orEOA        <a href=\"file:///Users/albe/Repos/curve/autobribe/.venv/lib/python3.12/site-packages/curve_dao/__init__.py\" target=\"_blank\"><span style=\"color: #7f7f7f; text-decoration-color: #7f7f7f\">__init__.py</span></a><span style=\"color: #7f7f7f; text-decoration-color: #7f7f7f\">:</span><a href=\"file:///Users/albe/Repos/curve/autobribe/.venv/lib/python3.12/site-packages/curve_dao/__init__.py#42\" target=\"_blank\"><span style=\"color: #7f7f7f; text-decoration-color: #7f7f7f\">42</span></a>\n",
       "<span style=\"color: #7fbfbf; text-decoration-color: #7fbfbf\">           </span>         created a vote less than <span style=\"color: #008080; text-decoration-color: #008080; font-weight: bold\">12</span> hours ago.                                           <span style=\"color: #7f7f7f; text-decoration-color: #7f7f7f\">              </span>\n",
       "<span style=\"color: #7fbfbf; text-decoration-color: #7fbfbf\">           </span>         <span style=\"color: #800000; text-decoration-color: #800000\">╭───────────────────── </span><span style=\"color: #800000; text-decoration-color: #800000; font-weight: bold\">Traceback </span><span style=\"color: #bf7f7f; text-decoration-color: #bf7f7f; font-weight: bold\">(most recent call last)</span><span style=\"color: #800000; text-decoration-color: #800000\"> ──────────────────────╮</span> <span style=\"color: #7f7f7f; text-decoration-color: #7f7f7f\">              </span>\n",
       "<span style=\"color: #7fbfbf; text-decoration-color: #7fbfbf\">           </span>         <span style=\"color: #800000; text-decoration-color: #800000\">│</span> <span style=\"color: #bfbf7f; text-decoration-color: #bfbf7f\">/Users/albe/Repos/curve/autobribe/.venv/lib/python3.12/site-packages/curve_d</span> <span style=\"color: #800000; text-decoration-color: #800000\">│</span> <span style=\"color: #7f7f7f; text-decoration-color: #7f7f7f\">              </span>\n",
       "<span style=\"color: #7fbfbf; text-decoration-color: #7fbfbf\">           </span>         <span style=\"color: #800000; text-decoration-color: #800000\">│</span> <span style=\"color: #bfbf7f; text-decoration-color: #bfbf7f\">ao/</span><span style=\"color: #808000; text-decoration-color: #808000; font-weight: bold\">__init__.py</span>:<span style=\"color: #0000ff; text-decoration-color: #0000ff\">40</span> in <span style=\"color: #00ff00; text-decoration-color: #00ff00\">create_vote</span>                                             <span style=\"color: #800000; text-decoration-color: #800000\">│</span> <span style=\"color: #7f7f7f; text-decoration-color: #7f7f7f\">              </span>\n",
       "<span style=\"color: #7fbfbf; text-decoration-color: #7fbfbf\">           </span>         <span style=\"color: #800000; text-decoration-color: #800000\">│</span>                                                                              <span style=\"color: #800000; text-decoration-color: #800000\">│</span> <span style=\"color: #7f7f7f; text-decoration-color: #7f7f7f\">              </span>\n",
       "<span style=\"color: #7fbfbf; text-decoration-color: #7fbfbf\">           </span>         <span style=\"color: #800000; text-decoration-color: #800000\">│</span>   <span style=\"color: #7f7f7f; text-decoration-color: #7f7f7f\">37 </span><span style=\"color: #7f7f7f; text-decoration-color: #7f7f7f\">│   </span>)                                                                   <span style=\"color: #800000; text-decoration-color: #800000\">│</span> <span style=\"color: #7f7f7f; text-decoration-color: #7f7f7f\">              </span>\n",
       "<span style=\"color: #7fbfbf; text-decoration-color: #7fbfbf\">           </span>         <span style=\"color: #800000; text-decoration-color: #800000\">│</span>   <span style=\"color: #7f7f7f; text-decoration-color: #7f7f7f\">38 </span><span style=\"color: #7f7f7f; text-decoration-color: #7f7f7f\">│   </span>                                                                    <span style=\"color: #800000; text-decoration-color: #800000\">│</span> <span style=\"color: #7f7f7f; text-decoration-color: #7f7f7f\">              </span>\n",
       "<span style=\"color: #7fbfbf; text-decoration-color: #7fbfbf\">           </span>         <span style=\"color: #800000; text-decoration-color: #800000\">│</span>   <span style=\"color: #7f7f7f; text-decoration-color: #7f7f7f\">39 </span><span style=\"color: #7f7f7f; text-decoration-color: #7f7f7f\">│   </span><span style=\"color: #0000ff; text-decoration-color: #0000ff\">try</span>:                                                                <span style=\"color: #800000; text-decoration-color: #800000\">│</span> <span style=\"color: #7f7f7f; text-decoration-color: #7f7f7f\">              </span>\n",
       "<span style=\"color: #7fbfbf; text-decoration-color: #7fbfbf\">           </span>         <span style=\"color: #800000; text-decoration-color: #800000\">│</span> <span style=\"color: #800000; text-decoration-color: #800000\">❱ </span>40 <span style=\"color: #7f7f7f; text-decoration-color: #7f7f7f\">│   │   </span><span style=\"color: #0000ff; text-decoration-color: #0000ff\">assert</span> voting.canCreateNewVote(boa.env.eoa)                     <span style=\"color: #800000; text-decoration-color: #800000\">│</span> <span style=\"color: #7f7f7f; text-decoration-color: #7f7f7f\">              </span>\n",
       "<span style=\"color: #7fbfbf; text-decoration-color: #7fbfbf\">           </span>         <span style=\"color: #800000; text-decoration-color: #800000\">│</span>   <span style=\"color: #7f7f7f; text-decoration-color: #7f7f7f\">41 </span><span style=\"color: #7f7f7f; text-decoration-color: #7f7f7f\">│   </span><span style=\"color: #0000ff; text-decoration-color: #0000ff\">except</span> <span style=\"color: #00ffff; text-decoration-color: #00ffff\">Exception</span>:                                                   <span style=\"color: #800000; text-decoration-color: #800000\">│</span> <span style=\"color: #7f7f7f; text-decoration-color: #7f7f7f\">              </span>\n",
       "<span style=\"color: #7fbfbf; text-decoration-color: #7fbfbf\">           </span>         <span style=\"color: #800000; text-decoration-color: #800000\">│</span>   <span style=\"color: #7f7f7f; text-decoration-color: #7f7f7f\">42 </span><span style=\"color: #7f7f7f; text-decoration-color: #7f7f7f\">│   │   </span>logger.exception(                                               <span style=\"color: #800000; text-decoration-color: #800000\">│</span> <span style=\"color: #7f7f7f; text-decoration-color: #7f7f7f\">              </span>\n",
       "<span style=\"color: #7fbfbf; text-decoration-color: #7fbfbf\">           </span>         <span style=\"color: #800000; text-decoration-color: #800000\">│</span>   <span style=\"color: #7f7f7f; text-decoration-color: #7f7f7f\">43 </span><span style=\"color: #7f7f7f; text-decoration-color: #7f7f7f\">│   │   │   </span><span style=\"color: #808000; text-decoration-color: #808000\">\"EOA cannot create new vote. Either there isn't enough veCR</span> <span style=\"color: #800000; text-decoration-color: #800000\">│</span> <span style=\"color: #7f7f7f; text-decoration-color: #7f7f7f\">              </span>\n",
       "<span style=\"color: #7fbfbf; text-decoration-color: #7fbfbf\">           </span>         <span style=\"color: #800000; text-decoration-color: #800000\">╰──────────────────────────────────────────────────────────────────────────────╯</span> <span style=\"color: #7f7f7f; text-decoration-color: #7f7f7f\">              </span>\n",
       "<span style=\"color: #7fbfbf; text-decoration-color: #7fbfbf\">           </span>         <span style=\"color: #ff0000; text-decoration-color: #ff0000; font-weight: bold\">AssertionError</span>                                                                   <span style=\"color: #7f7f7f; text-decoration-color: #7f7f7f\">              </span>\n",
       "</pre>\n"
      ]
     },
     "metadata": {},
     "output_type": "display_data"
    },
    {
     "ename": "BoaError",
     "evalue": "  (<AragonVoting interface at 0xE478de485ad2fe566d49342Cbd03E49ed7DB3356>.newVote(bytes,string,bool,bool) -> ['uint256'])\n\n   <Unknown contract 0xa4d1a2693589840babb7f3a44d14fdf41b3bf1fe>\n\n  (<AragonVoting interface at 0xE478de485ad2fe566d49342Cbd03E49ed7DB3356>.newVote(bytes,string,bool,bool) -> ['uint256'])",
     "output_type": "error",
     "traceback": [
      "\u001B[0;31m---------------------------------------------------------------------------\u001B[0m",
      "\u001B[0;31mBoaError\u001B[0m                                  Traceback (most recent call last)",
      "Cell \u001B[0;32mIn[17], line 5\u001B[0m\n\u001B[1;32m      1\u001B[0m ACTIONS \u001B[38;5;241m=\u001B[39m [\n\u001B[1;32m      2\u001B[0m     (ab\u001B[38;5;241m.\u001B[39mcontroller_factory, \u001B[38;5;124m\"\u001B[39m\u001B[38;5;124mset_fee_receiver\u001B[39m\u001B[38;5;124m\"\u001B[39m, fs)\n\u001B[1;32m      3\u001B[0m ]\n\u001B[1;32m      4\u001B[0m DESCRIPTION \u001B[38;5;241m=\u001B[39m \u001B[38;5;124m\"\u001B[39m\u001B[38;5;124mSet the fee receiver to the fee splitter, to lay the foundation for autobribe, st-crvUSD and rebalancing donations. This vote **is not** about changing the fee distribution (100\u001B[39m\u001B[38;5;132;01m% o\u001B[39;00m\u001B[38;5;124mf revenues will still go to veCRV holders).\u001B[39m\u001B[38;5;124m\"\u001B[39m\n\u001B[0;32m----> 5\u001B[0m \u001B[43mcurve_dao\u001B[49m\u001B[38;5;241;43m.\u001B[39;49m\u001B[43mcreate_vote\u001B[49m\u001B[43m(\u001B[49m\u001B[43mab\u001B[49m\u001B[38;5;241;43m.\u001B[39;49m\u001B[43mdao\u001B[49m\u001B[43m,\u001B[49m\u001B[43m \u001B[49m\u001B[43mACTIONS\u001B[49m\u001B[43m,\u001B[49m\u001B[43m \u001B[49m\u001B[43mDESCRIPTION\u001B[49m\u001B[43m,\u001B[49m\u001B[43m \u001B[49m\u001B[43mETHERSCAN_API_KEY\u001B[49m\u001B[43m,\u001B[49m\u001B[43m \u001B[49m\u001B[43mPINATA_API_KEY\u001B[49m\u001B[43m)\u001B[49m\n",
      "File \u001B[0;32m~/Repos/curve/autobribe/.venv/lib/python3.12/site-packages/curve_dao/__init__.py:47\u001B[0m, in \u001B[0;36mcreate_vote\u001B[0;34m(dao, actions, description, etherscan_api_key, pinata_token)\u001B[0m\n\u001B[1;32m     41\u001B[0m \u001B[38;5;28;01mexcept\u001B[39;00m \u001B[38;5;167;01mException\u001B[39;00m:\n\u001B[1;32m     42\u001B[0m     logger\u001B[38;5;241m.\u001B[39mexception(\n\u001B[1;32m     43\u001B[0m         \u001B[38;5;124m\"\u001B[39m\u001B[38;5;124mEOA cannot create new vote. Either there isn\u001B[39m\u001B[38;5;124m'\u001B[39m\u001B[38;5;124mt enough veCRV balance or\u001B[39m\u001B[38;5;124m\"\u001B[39m\n\u001B[1;32m     44\u001B[0m         \u001B[38;5;124m\"\u001B[39m\u001B[38;5;124mEOA created a vote less than 12 hours ago.\u001B[39m\u001B[38;5;124m\"\u001B[39m\n\u001B[1;32m     45\u001B[0m     )\n\u001B[0;32m---> 47\u001B[0m \u001B[38;5;28;01mreturn\u001B[39;00m \u001B[43mvoting\u001B[49m\u001B[38;5;241;43m.\u001B[39;49m\u001B[43mnewVote\u001B[49m\u001B[43m(\u001B[49m\n\u001B[1;32m     48\u001B[0m \u001B[43m    \u001B[49m\u001B[43mHexBytes\u001B[49m\u001B[43m(\u001B[49m\u001B[43mevm_script\u001B[49m\u001B[43m)\u001B[49m\u001B[43m,\u001B[49m\u001B[43m \u001B[49m\u001B[38;5;124;43mf\u001B[39;49m\u001B[38;5;124;43m\"\u001B[39;49m\u001B[38;5;124;43mipfs:\u001B[39;49m\u001B[38;5;132;43;01m{\u001B[39;49;00m\u001B[43mipfs_hash_of_description\u001B[49m\u001B[38;5;132;43;01m}\u001B[39;49;00m\u001B[38;5;124;43m\"\u001B[39;49m\u001B[43m,\u001B[49m\u001B[43m \u001B[49m\u001B[38;5;28;43;01mFalse\u001B[39;49;00m\u001B[43m,\u001B[49m\u001B[43m \u001B[49m\u001B[38;5;28;43;01mFalse\u001B[39;49;00m\n\u001B[1;32m     49\u001B[0m \u001B[43m\u001B[49m\u001B[43m)\u001B[49m\n",
      "File \u001B[0;32m~/Repos/curve/autobribe/.venv/lib/python3.12/site-packages/boa/contracts/abi/abi_contract.py:197\u001B[0m, in \u001B[0;36mABIOverload.__call__\u001B[0;34m(self, value, gas, sender, disambiguate_signature, *args, **kwargs)\u001B[0m\n\u001B[1;32m    190\u001B[0m \u001B[38;5;250m\u001B[39m\u001B[38;5;124;03m\"\"\"\u001B[39;00m\n\u001B[1;32m    191\u001B[0m \u001B[38;5;124;03mCall the function that matches the given arguments.\u001B[39;00m\n\u001B[1;32m    192\u001B[0m \u001B[38;5;124;03m:raises Exception: if a single function is not found\u001B[39;00m\n\u001B[1;32m    193\u001B[0m \u001B[38;5;124;03m\"\"\"\u001B[39;00m\n\u001B[1;32m    194\u001B[0m function \u001B[38;5;241m=\u001B[39m \u001B[38;5;28mself\u001B[39m\u001B[38;5;241m.\u001B[39m_pick_overload(\n\u001B[1;32m    195\u001B[0m     \u001B[38;5;241m*\u001B[39margs, disambiguate_signature\u001B[38;5;241m=\u001B[39mdisambiguate_signature, \u001B[38;5;241m*\u001B[39m\u001B[38;5;241m*\u001B[39mkwargs\n\u001B[1;32m    196\u001B[0m )\n\u001B[0;32m--> 197\u001B[0m \u001B[38;5;28;01mreturn\u001B[39;00m \u001B[43mfunction\u001B[49m\u001B[43m(\u001B[49m\u001B[38;5;241;43m*\u001B[39;49m\u001B[43margs\u001B[49m\u001B[43m,\u001B[49m\u001B[43m \u001B[49m\u001B[43mvalue\u001B[49m\u001B[38;5;241;43m=\u001B[39;49m\u001B[43mvalue\u001B[49m\u001B[43m,\u001B[49m\u001B[43m \u001B[49m\u001B[43mgas\u001B[49m\u001B[38;5;241;43m=\u001B[39;49m\u001B[43mgas\u001B[49m\u001B[43m,\u001B[49m\u001B[43m \u001B[49m\u001B[43msender\u001B[49m\u001B[38;5;241;43m=\u001B[39;49m\u001B[43msender\u001B[49m\u001B[43m,\u001B[49m\u001B[43m \u001B[49m\u001B[38;5;241;43m*\u001B[39;49m\u001B[38;5;241;43m*\u001B[39;49m\u001B[43mkwargs\u001B[49m\u001B[43m)\u001B[49m\n",
      "File \u001B[0;32m~/Repos/curve/autobribe/.venv/lib/python3.12/site-packages/boa/contracts/abi/abi_contract.py:136\u001B[0m, in \u001B[0;36mABIFunction.__call__\u001B[0;34m(self, value, gas, sender, *args, **kwargs)\u001B[0m\n\u001B[1;32m    124\u001B[0m     \u001B[38;5;28;01mraise\u001B[39;00m \u001B[38;5;167;01mException\u001B[39;00m(\u001B[38;5;124mf\u001B[39m\u001B[38;5;124m\"\u001B[39m\u001B[38;5;124mCannot call \u001B[39m\u001B[38;5;132;01m{\u001B[39;00m\u001B[38;5;28mself\u001B[39m\u001B[38;5;132;01m}\u001B[39;00m\u001B[38;5;124m without deploying contract.\u001B[39m\u001B[38;5;124m\"\u001B[39m)\n\u001B[1;32m    126\u001B[0m computation \u001B[38;5;241m=\u001B[39m \u001B[38;5;28mself\u001B[39m\u001B[38;5;241m.\u001B[39mcontract\u001B[38;5;241m.\u001B[39menv\u001B[38;5;241m.\u001B[39mexecute_code(\n\u001B[1;32m    127\u001B[0m     to_address\u001B[38;5;241m=\u001B[39m\u001B[38;5;28mself\u001B[39m\u001B[38;5;241m.\u001B[39mcontract\u001B[38;5;241m.\u001B[39maddress,\n\u001B[1;32m    128\u001B[0m     sender\u001B[38;5;241m=\u001B[39msender,\n\u001B[0;32m   (...)\u001B[0m\n\u001B[1;32m    133\u001B[0m     contract\u001B[38;5;241m=\u001B[39m\u001B[38;5;28mself\u001B[39m\u001B[38;5;241m.\u001B[39mcontract,\n\u001B[1;32m    134\u001B[0m )\n\u001B[0;32m--> 136\u001B[0m \u001B[38;5;28;01mmatch\u001B[39;00m \u001B[38;5;28;43mself\u001B[39;49m\u001B[38;5;241;43m.\u001B[39;49m\u001B[43mcontract\u001B[49m\u001B[38;5;241;43m.\u001B[39;49m\u001B[43mmarshal_to_python\u001B[49m\u001B[43m(\u001B[49m\u001B[43mcomputation\u001B[49m\u001B[43m,\u001B[49m\u001B[43m \u001B[49m\u001B[38;5;28;43mself\u001B[39;49m\u001B[38;5;241;43m.\u001B[39;49m\u001B[43mreturn_type\u001B[49m\u001B[43m)\u001B[49m:\n\u001B[1;32m    137\u001B[0m     \u001B[38;5;28;01mcase\u001B[39;00m ():\n\u001B[1;32m    138\u001B[0m         \u001B[38;5;28;01mreturn\u001B[39;00m \u001B[38;5;28;01mNone\u001B[39;00m\n",
      "File \u001B[0;32m~/Repos/curve/autobribe/.venv/lib/python3.12/site-packages/boa/contracts/abi/abi_contract.py:288\u001B[0m, in \u001B[0;36mABIContract.marshal_to_python\u001B[0;34m(self, computation, abi_type)\u001B[0m\n\u001B[1;32m    286\u001B[0m \u001B[38;5;66;03m# when there's no contract in the address, the computation output is empty\u001B[39;00m\n\u001B[1;32m    287\u001B[0m \u001B[38;5;28;01mif\u001B[39;00m computation\u001B[38;5;241m.\u001B[39mis_error:\n\u001B[0;32m--> 288\u001B[0m     \u001B[38;5;28;01mreturn\u001B[39;00m \u001B[38;5;28;43mself\u001B[39;49m\u001B[38;5;241;43m.\u001B[39;49m\u001B[43mhandle_error\u001B[49m\u001B[43m(\u001B[49m\u001B[43mcomputation\u001B[49m\u001B[43m)\u001B[49m\n\u001B[1;32m    290\u001B[0m schema \u001B[38;5;241m=\u001B[39m \u001B[38;5;124mf\u001B[39m\u001B[38;5;124m\"\u001B[39m\u001B[38;5;124m(\u001B[39m\u001B[38;5;132;01m{\u001B[39;00m_format_abi_type(abi_type)\u001B[38;5;132;01m}\u001B[39;00m\u001B[38;5;124m)\u001B[39m\u001B[38;5;124m\"\u001B[39m\n\u001B[1;32m    291\u001B[0m \u001B[38;5;28;01mtry\u001B[39;00m:\n",
      "File \u001B[0;32m~/Repos/curve/autobribe/.venv/lib/python3.12/site-packages/boa/contracts/base_evm_contract.py:36\u001B[0m, in \u001B[0;36m_BaseEVMContract.handle_error\u001B[0;34m(self, computation)\u001B[0m\n\u001B[1;32m     32\u001B[0m     \u001B[38;5;28;01mraise\u001B[39;00m BoaError(\u001B[38;5;28mself\u001B[39m\u001B[38;5;241m.\u001B[39mstack_trace(computation))\n\u001B[1;32m     33\u001B[0m \u001B[38;5;28;01mexcept\u001B[39;00m BoaError \u001B[38;5;28;01mas\u001B[39;00m b:\n\u001B[1;32m     34\u001B[0m     \u001B[38;5;66;03m# modify the error so the traceback starts in userland.\u001B[39;00m\n\u001B[1;32m     35\u001B[0m     \u001B[38;5;66;03m# inspired by answers in https://stackoverflow.com/q/1603940/\u001B[39;00m\n\u001B[0;32m---> 36\u001B[0m     \u001B[38;5;28;01mraise\u001B[39;00m strip_internal_frames(b) \u001B[38;5;28;01mfrom\u001B[39;00m \u001B[38;5;28;01mNone\u001B[39;00m\n",
      "File \u001B[0;32m~/Repos/curve/autobribe/.venv/lib/python3.12/site-packages/curve_dao/__init__.py:47\u001B[0m, in \u001B[0;36mcreate_vote\u001B[0;34m(dao, actions, description, etherscan_api_key, pinata_token)\u001B[0m\n\u001B[1;32m     41\u001B[0m \u001B[38;5;28;01mexcept\u001B[39;00m \u001B[38;5;167;01mException\u001B[39;00m:\n\u001B[1;32m     42\u001B[0m     logger\u001B[38;5;241m.\u001B[39mexception(\n\u001B[1;32m     43\u001B[0m         \u001B[38;5;124m\"\u001B[39m\u001B[38;5;124mEOA cannot create new vote. Either there isn\u001B[39m\u001B[38;5;124m'\u001B[39m\u001B[38;5;124mt enough veCRV balance or\u001B[39m\u001B[38;5;124m\"\u001B[39m\n\u001B[1;32m     44\u001B[0m         \u001B[38;5;124m\"\u001B[39m\u001B[38;5;124mEOA created a vote less than 12 hours ago.\u001B[39m\u001B[38;5;124m\"\u001B[39m\n\u001B[1;32m     45\u001B[0m     )\n\u001B[0;32m---> 47\u001B[0m \u001B[38;5;28;01mreturn\u001B[39;00m \u001B[43mvoting\u001B[49m\u001B[38;5;241;43m.\u001B[39;49m\u001B[43mnewVote\u001B[49m\u001B[43m(\u001B[49m\n\u001B[1;32m     48\u001B[0m \u001B[43m    \u001B[49m\u001B[43mHexBytes\u001B[49m\u001B[43m(\u001B[49m\u001B[43mevm_script\u001B[49m\u001B[43m)\u001B[49m\u001B[43m,\u001B[49m\u001B[43m \u001B[49m\u001B[38;5;124;43mf\u001B[39;49m\u001B[38;5;124;43m\"\u001B[39;49m\u001B[38;5;124;43mipfs:\u001B[39;49m\u001B[38;5;132;43;01m{\u001B[39;49;00m\u001B[43mipfs_hash_of_description\u001B[49m\u001B[38;5;132;43;01m}\u001B[39;49;00m\u001B[38;5;124;43m\"\u001B[39;49m\u001B[43m,\u001B[49m\u001B[43m \u001B[49m\u001B[38;5;28;43;01mFalse\u001B[39;49;00m\u001B[43m,\u001B[49m\u001B[43m \u001B[49m\u001B[38;5;28;43;01mFalse\u001B[39;49;00m\n\u001B[1;32m     49\u001B[0m \u001B[43m\u001B[49m\u001B[43m)\u001B[49m\n",
      "\u001B[0;31mBoaError\u001B[0m:   (<AragonVoting interface at 0xE478de485ad2fe566d49342Cbd03E49ed7DB3356>.newVote(bytes,string,bool,bool) -> ['uint256'])\n\n   <Unknown contract 0xa4d1a2693589840babb7f3a44d14fdf41b3bf1fe>\n\n  (<AragonVoting interface at 0xE478de485ad2fe566d49342Cbd03E49ed7DB3356>.newVote(bytes,string,bool,bool) -> ['uint256'])"
     ]
    }
   ],
   "execution_count": 17
  },
  {
   "metadata": {},
   "cell_type": "code",
   "outputs": [],
   "execution_count": null,
   "source": "",
   "id": "e6eb28b57fbfcd29"
  }
 ],
 "metadata": {
  "kernelspec": {
   "display_name": "Python 3",
   "language": "python",
   "name": "python3"
  },
  "language_info": {
   "codemirror_mode": {
    "name": "ipython",
    "version": 2
   },
   "file_extension": ".py",
   "mimetype": "text/x-python",
   "name": "python",
   "nbconvert_exporter": "python",
   "pygments_lexer": "ipython2",
   "version": "2.7.6"
  }
 },
 "nbformat": 4,
 "nbformat_minor": 5
}
